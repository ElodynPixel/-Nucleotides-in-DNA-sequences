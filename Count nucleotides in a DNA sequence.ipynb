{
  "nbformat": 4,
  "nbformat_minor": 0,
  "metadata": {
    "colab": {
      "name": "Untitled0.ipynb",
      "provenance": [],
      "authorship_tag": "ABX9TyOJD+7TkSJI9EqoOYw2wk56",
      "include_colab_link": true
    },
    "kernelspec": {
      "name": "python3",
      "display_name": "Python 3"
    },
    "language_info": {
      "name": "python"
    }
  },
  "cells": [
    {
      "cell_type": "markdown",
      "metadata": {
        "id": "view-in-github",
        "colab_type": "text"
      },
      "source": [
        "<a href=\"https://colab.research.google.com/github/ElodynPixel/-Nucleotides-in-DNA-sequences/blob/main/Count%20nucleotides%20in%20a%20DNA%20sequence.ipynb\" target=\"_parent\"><img src=\"https://colab.research.google.com/assets/colab-badge.svg\" alt=\"Open In Colab\"/></a>"
      ]
    },
    {
      "cell_type": "code",
      "metadata": {
        "colab": {
          "base_uri": "https://localhost:8080/"
        },
        "id": "3CWASBDIBltH",
        "outputId": "c00d1649-be72-421e-ddc7-7dc969e46dab"
      },
      "source": [
        "#counting nucleotide frequency of a given DNA sample\n",
        "DNA = input (\"please enter your DNA sequence below:\\n\")\n",
        "DNA = DNA.upper()\n",
        "A = DNA.count(\"A\")\n",
        "T = DNA.count(\"T\")\n",
        "C = DNA.count(\"C\")\n",
        "G = DNA.count(\"G\")\n",
        "\n",
        "print(\"the number of A in your DNA sequence is: \",A)\n",
        "print(\"the number of T in your DNA sequence is: \",T)\n",
        "print(\"the number of C in your DNA sequence is: \",C)\n",
        "print(\"the number of G in your DNA sequence is: \",G)\n",
        "print(\"the GC ratio of your DNA sequence is: \",(G+C)/(G+C+T+A))"
      ],
      "execution_count": 11,
      "outputs": [
        {
          "output_type": "stream",
          "text": [
            "please enter your DNA sequence below:\n",
            "ggctgacgga\n",
            "the number of A in your DNA sequence is:  2\n",
            "the number of T in your DNA sequence is:  1\n",
            "the number of C in your DNA sequence is:  2\n",
            "the number of G in your DNA sequence is:  5\n",
            "the GC ratio of your DNA sequence is:  0.7\n"
          ],
          "name": "stdout"
        }
      ]
    },
    {
      "cell_type": "code",
      "metadata": {
        "id": "_OLyAdWnDt-T"
      },
      "source": [
        ""
      ],
      "execution_count": 9,
      "outputs": []
    }
  ]
}